{
 "cells": [
  {
   "cell_type": "markdown",
   "id": "dd31ef85",
   "metadata": {},
   "source": [
    "# Fair Machine Learning - COMPAS dataset - Preprocessing R"
   ]
  },
  {
   "cell_type": "code",
   "execution_count": 1,
   "id": "40eeda65",
   "metadata": {},
   "outputs": [],
   "source": [
    "%matplotlib inline\n",
    "from IPython.core.interactiveshell import InteractiveShell\n",
    "InteractiveShell.ast_node_interactivity = \"all\"\n",
    "\n",
    "import numpy as np\n",
    "import pandas as pd\n",
    "import matplotlib.pyplot as plt\n",
    "import seaborn as sns\n",
    "from sklearn.metrics import confusion_matrix"
   ]
  },
  {
   "cell_type": "markdown",
   "id": "6e2a65d1",
   "metadata": {},
   "source": [
    "Import COMPAS dataset"
   ]
  },
  {
   "cell_type": "code",
   "execution_count": 2,
   "id": "82eef635",
   "metadata": {},
   "outputs": [
    {
     "data": {
      "text/html": [
       "<div>\n",
       "<style scoped>\n",
       "    .dataframe tbody tr th:only-of-type {\n",
       "        vertical-align: middle;\n",
       "    }\n",
       "\n",
       "    .dataframe tbody tr th {\n",
       "        vertical-align: top;\n",
       "    }\n",
       "\n",
       "    .dataframe thead th {\n",
       "        text-align: right;\n",
       "    }\n",
       "</style>\n",
       "<table border=\"1\" class=\"dataframe\">\n",
       "  <thead>\n",
       "    <tr style=\"text-align: right;\">\n",
       "      <th></th>\n",
       "      <th>Unnamed: 0</th>\n",
       "      <th>id</th>\n",
       "      <th>name</th>\n",
       "      <th>first</th>\n",
       "      <th>last</th>\n",
       "      <th>compas_screening_date</th>\n",
       "      <th>sex</th>\n",
       "      <th>dob</th>\n",
       "      <th>age</th>\n",
       "      <th>age_cat</th>\n",
       "      <th>...</th>\n",
       "      <th>v_decile_score</th>\n",
       "      <th>v_score_text</th>\n",
       "      <th>v_screening_date</th>\n",
       "      <th>in_custody</th>\n",
       "      <th>out_custody</th>\n",
       "      <th>priors_count.1</th>\n",
       "      <th>start</th>\n",
       "      <th>end</th>\n",
       "      <th>event</th>\n",
       "      <th>two_year_recid</th>\n",
       "    </tr>\n",
       "  </thead>\n",
       "  <tbody>\n",
       "    <tr>\n",
       "      <th>0</th>\n",
       "      <td>0</td>\n",
       "      <td>1</td>\n",
       "      <td>miguel hernandez</td>\n",
       "      <td>miguel</td>\n",
       "      <td>hernandez</td>\n",
       "      <td>2013-08-14</td>\n",
       "      <td>Male</td>\n",
       "      <td>1947-04-18</td>\n",
       "      <td>69</td>\n",
       "      <td>Greater than 45</td>\n",
       "      <td>...</td>\n",
       "      <td>1</td>\n",
       "      <td>Low</td>\n",
       "      <td>2013-08-14</td>\n",
       "      <td>2014-07-07</td>\n",
       "      <td>2014-07-14</td>\n",
       "      <td>0</td>\n",
       "      <td>0</td>\n",
       "      <td>327</td>\n",
       "      <td>0</td>\n",
       "      <td>0</td>\n",
       "    </tr>\n",
       "    <tr>\n",
       "      <th>1</th>\n",
       "      <td>1</td>\n",
       "      <td>3</td>\n",
       "      <td>kevon dixon</td>\n",
       "      <td>kevon</td>\n",
       "      <td>dixon</td>\n",
       "      <td>2013-01-27</td>\n",
       "      <td>Male</td>\n",
       "      <td>1982-01-22</td>\n",
       "      <td>34</td>\n",
       "      <td>25 - 45</td>\n",
       "      <td>...</td>\n",
       "      <td>1</td>\n",
       "      <td>Low</td>\n",
       "      <td>2013-01-27</td>\n",
       "      <td>2013-01-26</td>\n",
       "      <td>2013-02-05</td>\n",
       "      <td>0</td>\n",
       "      <td>9</td>\n",
       "      <td>159</td>\n",
       "      <td>1</td>\n",
       "      <td>1</td>\n",
       "    </tr>\n",
       "    <tr>\n",
       "      <th>2</th>\n",
       "      <td>2</td>\n",
       "      <td>4</td>\n",
       "      <td>ed philo</td>\n",
       "      <td>ed</td>\n",
       "      <td>philo</td>\n",
       "      <td>2013-04-14</td>\n",
       "      <td>Male</td>\n",
       "      <td>1991-05-14</td>\n",
       "      <td>24</td>\n",
       "      <td>Less than 25</td>\n",
       "      <td>...</td>\n",
       "      <td>3</td>\n",
       "      <td>Low</td>\n",
       "      <td>2013-04-14</td>\n",
       "      <td>2013-06-16</td>\n",
       "      <td>2013-06-16</td>\n",
       "      <td>4</td>\n",
       "      <td>0</td>\n",
       "      <td>63</td>\n",
       "      <td>0</td>\n",
       "      <td>1</td>\n",
       "    </tr>\n",
       "    <tr>\n",
       "      <th>3</th>\n",
       "      <td>3</td>\n",
       "      <td>5</td>\n",
       "      <td>marcu brown</td>\n",
       "      <td>marcu</td>\n",
       "      <td>brown</td>\n",
       "      <td>2013-01-13</td>\n",
       "      <td>Male</td>\n",
       "      <td>1993-01-21</td>\n",
       "      <td>23</td>\n",
       "      <td>Less than 25</td>\n",
       "      <td>...</td>\n",
       "      <td>6</td>\n",
       "      <td>Medium</td>\n",
       "      <td>2013-01-13</td>\n",
       "      <td>NaN</td>\n",
       "      <td>NaN</td>\n",
       "      <td>1</td>\n",
       "      <td>0</td>\n",
       "      <td>1174</td>\n",
       "      <td>0</td>\n",
       "      <td>0</td>\n",
       "    </tr>\n",
       "    <tr>\n",
       "      <th>4</th>\n",
       "      <td>4</td>\n",
       "      <td>6</td>\n",
       "      <td>bouthy pierrelouis</td>\n",
       "      <td>bouthy</td>\n",
       "      <td>pierrelouis</td>\n",
       "      <td>2013-03-26</td>\n",
       "      <td>Male</td>\n",
       "      <td>1973-01-22</td>\n",
       "      <td>43</td>\n",
       "      <td>25 - 45</td>\n",
       "      <td>...</td>\n",
       "      <td>1</td>\n",
       "      <td>Low</td>\n",
       "      <td>2013-03-26</td>\n",
       "      <td>NaN</td>\n",
       "      <td>NaN</td>\n",
       "      <td>2</td>\n",
       "      <td>0</td>\n",
       "      <td>1102</td>\n",
       "      <td>0</td>\n",
       "      <td>0</td>\n",
       "    </tr>\n",
       "  </tbody>\n",
       "</table>\n",
       "<p>5 rows × 54 columns</p>\n",
       "</div>"
      ],
      "text/plain": [
       "   Unnamed: 0  id                name   first         last  \\\n",
       "0           0   1    miguel hernandez  miguel    hernandez   \n",
       "1           1   3         kevon dixon   kevon        dixon   \n",
       "2           2   4            ed philo      ed        philo   \n",
       "3           3   5         marcu brown   marcu        brown   \n",
       "4           4   6  bouthy pierrelouis  bouthy  pierrelouis   \n",
       "\n",
       "  compas_screening_date   sex         dob  age          age_cat  ...  \\\n",
       "0            2013-08-14  Male  1947-04-18   69  Greater than 45  ...   \n",
       "1            2013-01-27  Male  1982-01-22   34          25 - 45  ...   \n",
       "2            2013-04-14  Male  1991-05-14   24     Less than 25  ...   \n",
       "3            2013-01-13  Male  1993-01-21   23     Less than 25  ...   \n",
       "4            2013-03-26  Male  1973-01-22   43          25 - 45  ...   \n",
       "\n",
       "  v_decile_score  v_score_text  v_screening_date  in_custody  out_custody  \\\n",
       "0              1           Low        2013-08-14  2014-07-07   2014-07-14   \n",
       "1              1           Low        2013-01-27  2013-01-26   2013-02-05   \n",
       "2              3           Low        2013-04-14  2013-06-16   2013-06-16   \n",
       "3              6        Medium        2013-01-13         NaN          NaN   \n",
       "4              1           Low        2013-03-26         NaN          NaN   \n",
       "\n",
       "   priors_count.1  start   end event two_year_recid  \n",
       "0               0      0   327     0              0  \n",
       "1               0      9   159     1              1  \n",
       "2               4      0    63     0              1  \n",
       "3               1      0  1174     0              0  \n",
       "4               2      0  1102     0              0  \n",
       "\n",
       "[5 rows x 54 columns]"
      ]
     },
     "execution_count": 2,
     "metadata": {},
     "output_type": "execute_result"
    }
   ],
   "source": [
    "df = pd.read_csv('../../Data/compas7214.csv')\n",
    "df.head()"
   ]
  },
  {
   "cell_type": "code",
   "execution_count": 3,
   "id": "888d1575",
   "metadata": {},
   "outputs": [
    {
     "name": "stdout",
     "output_type": "stream",
     "text": [
      "<class 'pandas.core.frame.DataFrame'>\n",
      "RangeIndex: 7214 entries, 0 to 7213\n",
      "Data columns (total 54 columns):\n",
      " #   Column                   Non-Null Count  Dtype  \n",
      "---  ------                   --------------  -----  \n",
      " 0   Unnamed: 0               7214 non-null   int64  \n",
      " 1   id                       7214 non-null   int64  \n",
      " 2   name                     7214 non-null   object \n",
      " 3   first                    7214 non-null   object \n",
      " 4   last                     7214 non-null   object \n",
      " 5   compas_screening_date    7214 non-null   object \n",
      " 6   sex                      7214 non-null   object \n",
      " 7   dob                      7214 non-null   object \n",
      " 8   age                      7214 non-null   int64  \n",
      " 9   age_cat                  7214 non-null   object \n",
      " 10  race                     7214 non-null   object \n",
      " 11  juv_fel_count            7214 non-null   int64  \n",
      " 12  decile_score             7214 non-null   int64  \n",
      " 13  juv_misd_count           7214 non-null   int64  \n",
      " 14  juv_other_count          7214 non-null   int64  \n",
      " 15  priors_count             7214 non-null   int64  \n",
      " 16  days_b_screening_arrest  6907 non-null   float64\n",
      " 17  c_jail_in                6907 non-null   object \n",
      " 18  c_jail_out               6907 non-null   object \n",
      " 19  c_case_number            7192 non-null   object \n",
      " 20  c_offense_date           6055 non-null   object \n",
      " 21  c_arrest_date            1137 non-null   object \n",
      " 22  c_days_from_compas       7192 non-null   float64\n",
      " 23  c_charge_degree          7214 non-null   object \n",
      " 24  c_charge_desc            7185 non-null   object \n",
      " 25  is_recid                 7214 non-null   int64  \n",
      " 26  r_case_number            3471 non-null   object \n",
      " 27  r_charge_degree          3471 non-null   object \n",
      " 28  r_days_from_arrest       2316 non-null   float64\n",
      " 29  r_offense_date           3471 non-null   object \n",
      " 30  r_charge_desc            3413 non-null   object \n",
      " 31  r_jail_in                2316 non-null   object \n",
      " 32  r_jail_out               2316 non-null   object \n",
      " 33  violent_recid            0 non-null      float64\n",
      " 34  is_violent_recid         7214 non-null   int64  \n",
      " 35  vr_case_number           819 non-null    object \n",
      " 36  vr_charge_degree         819 non-null    object \n",
      " 37  vr_offense_date          819 non-null    object \n",
      " 38  vr_charge_desc           819 non-null    object \n",
      " 39  type_of_assessment       7214 non-null   object \n",
      " 40  decile_score.1           7214 non-null   int64  \n",
      " 41  score_text               7214 non-null   object \n",
      " 42  screening_date           7214 non-null   object \n",
      " 43  v_type_of_assessment     7214 non-null   object \n",
      " 44  v_decile_score           7214 non-null   int64  \n",
      " 45  v_score_text             7214 non-null   object \n",
      " 46  v_screening_date         7214 non-null   object \n",
      " 47  in_custody               6978 non-null   object \n",
      " 48  out_custody              6978 non-null   object \n",
      " 49  priors_count.1           7214 non-null   int64  \n",
      " 50  start                    7214 non-null   int64  \n",
      " 51  end                      7214 non-null   int64  \n",
      " 52  event                    7214 non-null   int64  \n",
      " 53  two_year_recid           7214 non-null   int64  \n",
      "dtypes: float64(4), int64(17), object(33)\n",
      "memory usage: 3.0+ MB\n"
     ]
    }
   ],
   "source": [
    "df.info()"
   ]
  },
  {
   "cell_type": "markdown",
   "id": "fe1a44a2",
   "metadata": {},
   "source": [
    "From here on related to notebook of authors of \"How we analyzed the COMPAS recidivism algorithm.\" <br>\n",
    "https://github.com/propublica/compas-analysis <br>\n",
    "https://www.propublica.org/article/how-we-analyzed-the-compas-recidivism-algorithm/"
   ]
  },
  {
   "cell_type": "code",
   "execution_count": 5,
   "id": "c782a7cb",
   "metadata": {},
   "outputs": [
    {
     "name": "stdout",
     "output_type": "stream",
     "text": [
      "The rpy2.ipython extension is already loaded. To reload it, use:\n",
      "  %reload_ext rpy2.ipython\n"
     ]
    }
   ],
   "source": [
    "# filter dplyr warnings\n",
    "%load_ext rpy2.ipython\n",
    "import warnings\n",
    "warnings.filterwarnings('ignore')"
   ]
  },
  {
   "cell_type": "code",
   "execution_count": 13,
   "id": "6d90100d",
   "metadata": {},
   "outputs": [
    {
     "name": "stdout",
     "output_type": "stream",
     "text": [
      "[1] 7214\n"
     ]
    }
   ],
   "source": [
    "%%R\n",
    "library(dplyr)\n",
    "library(ggplot2)\n",
    "raw_data <- read.csv(\"../../Data/compas7214.csv\")\n",
    "nrow(raw_data)"
   ]
  },
  {
   "cell_type": "code",
   "execution_count": 14,
   "id": "bb58ca57",
   "metadata": {},
   "outputs": [
    {
     "name": "stdout",
     "output_type": "stream",
     "text": [
      "[1] 54\n"
     ]
    }
   ],
   "source": [
    "%%R\n",
    "ncol(raw_data)"
   ]
  },
  {
   "cell_type": "code",
   "execution_count": 17,
   "id": "7c83b6f8",
   "metadata": {},
   "outputs": [
    {
     "name": "stdout",
     "output_type": "stream",
     "text": [
      "NULL\n"
     ]
    }
   ],
   "source": [
    "%%R\n",
    "nrow(df)"
   ]
  },
  {
   "cell_type": "code",
   "execution_count": null,
   "id": "53748afa",
   "metadata": {},
   "outputs": [],
   "source": []
  }
 ],
 "metadata": {
  "kernelspec": {
   "display_name": "Python 3",
   "language": "python",
   "name": "python3"
  },
  "language_info": {
   "codemirror_mode": {
    "name": "ipython",
    "version": 3
   },
   "file_extension": ".py",
   "mimetype": "text/x-python",
   "name": "python",
   "nbconvert_exporter": "python",
   "pygments_lexer": "ipython3",
   "version": "3.9.1"
  }
 },
 "nbformat": 4,
 "nbformat_minor": 5
}
