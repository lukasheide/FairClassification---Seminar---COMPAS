{
 "cells": [
  {
   "cell_type": "markdown",
   "id": "295f5bb6",
   "metadata": {},
   "source": [
    "# Fair Machine Learning - COMPAS algorithm analysis"
   ]
  },
  {
   "cell_type": "markdown",
   "id": "d203d4ad",
   "metadata": {},
   "source": [
    "Start by importing all kinds of necessary packages."
   ]
  },
  {
   "cell_type": "code",
   "execution_count": 1,
   "id": "5e999b04",
   "metadata": {},
   "outputs": [],
   "source": [
    "%matplotlib inline\n",
    "from IPython.core.interactiveshell import InteractiveShell\n",
    "InteractiveShell.ast_node_interactivity = \"all\"\n",
    "\n",
    "import numpy as np\n",
    "import pandas as pd\n",
    "import matplotlib.pyplot as plt\n",
    "import seaborn as sns\n",
    "from sklearn.metrics import confusion_matrix"
   ]
  },
  {
   "cell_type": "markdown",
   "id": "70c62677",
   "metadata": {},
   "source": [
    "Import COMPAS dataset from ProPublica public repository"
   ]
  },
  {
   "cell_type": "code",
   "execution_count": 2,
   "id": "9e7efb36",
   "metadata": {},
   "outputs": [
    {
     "data": {
      "text/html": [
       "<div>\n",
       "<style scoped>\n",
       "    .dataframe tbody tr th:only-of-type {\n",
       "        vertical-align: middle;\n",
       "    }\n",
       "\n",
       "    .dataframe tbody tr th {\n",
       "        vertical-align: top;\n",
       "    }\n",
       "\n",
       "    .dataframe thead th {\n",
       "        text-align: right;\n",
       "    }\n",
       "</style>\n",
       "<table border=\"1\" class=\"dataframe\">\n",
       "  <thead>\n",
       "    <tr style=\"text-align: right;\">\n",
       "      <th></th>\n",
       "      <th>id</th>\n",
       "      <th>name</th>\n",
       "      <th>first</th>\n",
       "      <th>last</th>\n",
       "      <th>compas_screening_date</th>\n",
       "      <th>sex</th>\n",
       "      <th>dob</th>\n",
       "      <th>age</th>\n",
       "      <th>age_cat</th>\n",
       "      <th>race</th>\n",
       "      <th>...</th>\n",
       "      <th>v_decile_score</th>\n",
       "      <th>v_score_text</th>\n",
       "      <th>v_screening_date</th>\n",
       "      <th>in_custody</th>\n",
       "      <th>out_custody</th>\n",
       "      <th>priors_count.1</th>\n",
       "      <th>start</th>\n",
       "      <th>end</th>\n",
       "      <th>event</th>\n",
       "      <th>two_year_recid</th>\n",
       "    </tr>\n",
       "  </thead>\n",
       "  <tbody>\n",
       "    <tr>\n",
       "      <th>0</th>\n",
       "      <td>1</td>\n",
       "      <td>miguel hernandez</td>\n",
       "      <td>miguel</td>\n",
       "      <td>hernandez</td>\n",
       "      <td>2013-08-14</td>\n",
       "      <td>Male</td>\n",
       "      <td>1947-04-18</td>\n",
       "      <td>69</td>\n",
       "      <td>Greater than 45</td>\n",
       "      <td>Other</td>\n",
       "      <td>...</td>\n",
       "      <td>1</td>\n",
       "      <td>Low</td>\n",
       "      <td>2013-08-14</td>\n",
       "      <td>2014-07-07</td>\n",
       "      <td>2014-07-14</td>\n",
       "      <td>0</td>\n",
       "      <td>0</td>\n",
       "      <td>327</td>\n",
       "      <td>0</td>\n",
       "      <td>0</td>\n",
       "    </tr>\n",
       "    <tr>\n",
       "      <th>1</th>\n",
       "      <td>3</td>\n",
       "      <td>kevon dixon</td>\n",
       "      <td>kevon</td>\n",
       "      <td>dixon</td>\n",
       "      <td>2013-01-27</td>\n",
       "      <td>Male</td>\n",
       "      <td>1982-01-22</td>\n",
       "      <td>34</td>\n",
       "      <td>25 - 45</td>\n",
       "      <td>African-American</td>\n",
       "      <td>...</td>\n",
       "      <td>1</td>\n",
       "      <td>Low</td>\n",
       "      <td>2013-01-27</td>\n",
       "      <td>2013-01-26</td>\n",
       "      <td>2013-02-05</td>\n",
       "      <td>0</td>\n",
       "      <td>9</td>\n",
       "      <td>159</td>\n",
       "      <td>1</td>\n",
       "      <td>1</td>\n",
       "    </tr>\n",
       "    <tr>\n",
       "      <th>2</th>\n",
       "      <td>4</td>\n",
       "      <td>ed philo</td>\n",
       "      <td>ed</td>\n",
       "      <td>philo</td>\n",
       "      <td>2013-04-14</td>\n",
       "      <td>Male</td>\n",
       "      <td>1991-05-14</td>\n",
       "      <td>24</td>\n",
       "      <td>Less than 25</td>\n",
       "      <td>African-American</td>\n",
       "      <td>...</td>\n",
       "      <td>3</td>\n",
       "      <td>Low</td>\n",
       "      <td>2013-04-14</td>\n",
       "      <td>2013-06-16</td>\n",
       "      <td>2013-06-16</td>\n",
       "      <td>4</td>\n",
       "      <td>0</td>\n",
       "      <td>63</td>\n",
       "      <td>0</td>\n",
       "      <td>1</td>\n",
       "    </tr>\n",
       "    <tr>\n",
       "      <th>3</th>\n",
       "      <td>5</td>\n",
       "      <td>marcu brown</td>\n",
       "      <td>marcu</td>\n",
       "      <td>brown</td>\n",
       "      <td>2013-01-13</td>\n",
       "      <td>Male</td>\n",
       "      <td>1993-01-21</td>\n",
       "      <td>23</td>\n",
       "      <td>Less than 25</td>\n",
       "      <td>African-American</td>\n",
       "      <td>...</td>\n",
       "      <td>6</td>\n",
       "      <td>Medium</td>\n",
       "      <td>2013-01-13</td>\n",
       "      <td>NaN</td>\n",
       "      <td>NaN</td>\n",
       "      <td>1</td>\n",
       "      <td>0</td>\n",
       "      <td>1174</td>\n",
       "      <td>0</td>\n",
       "      <td>0</td>\n",
       "    </tr>\n",
       "    <tr>\n",
       "      <th>4</th>\n",
       "      <td>6</td>\n",
       "      <td>bouthy pierrelouis</td>\n",
       "      <td>bouthy</td>\n",
       "      <td>pierrelouis</td>\n",
       "      <td>2013-03-26</td>\n",
       "      <td>Male</td>\n",
       "      <td>1973-01-22</td>\n",
       "      <td>43</td>\n",
       "      <td>25 - 45</td>\n",
       "      <td>Other</td>\n",
       "      <td>...</td>\n",
       "      <td>1</td>\n",
       "      <td>Low</td>\n",
       "      <td>2013-03-26</td>\n",
       "      <td>NaN</td>\n",
       "      <td>NaN</td>\n",
       "      <td>2</td>\n",
       "      <td>0</td>\n",
       "      <td>1102</td>\n",
       "      <td>0</td>\n",
       "      <td>0</td>\n",
       "    </tr>\n",
       "  </tbody>\n",
       "</table>\n",
       "<p>5 rows × 53 columns</p>\n",
       "</div>"
      ],
      "text/plain": [
       "   id                name   first         last compas_screening_date   sex  \\\n",
       "0   1    miguel hernandez  miguel    hernandez            2013-08-14  Male   \n",
       "1   3         kevon dixon   kevon        dixon            2013-01-27  Male   \n",
       "2   4            ed philo      ed        philo            2013-04-14  Male   \n",
       "3   5         marcu brown   marcu        brown            2013-01-13  Male   \n",
       "4   6  bouthy pierrelouis  bouthy  pierrelouis            2013-03-26  Male   \n",
       "\n",
       "          dob  age          age_cat              race  ...  v_decile_score  \\\n",
       "0  1947-04-18   69  Greater than 45             Other  ...               1   \n",
       "1  1982-01-22   34          25 - 45  African-American  ...               1   \n",
       "2  1991-05-14   24     Less than 25  African-American  ...               3   \n",
       "3  1993-01-21   23     Less than 25  African-American  ...               6   \n",
       "4  1973-01-22   43          25 - 45             Other  ...               1   \n",
       "\n",
       "   v_score_text  v_screening_date  in_custody  out_custody  priors_count.1  \\\n",
       "0           Low        2013-08-14  2014-07-07   2014-07-14               0   \n",
       "1           Low        2013-01-27  2013-01-26   2013-02-05               0   \n",
       "2           Low        2013-04-14  2013-06-16   2013-06-16               4   \n",
       "3        Medium        2013-01-13         NaN          NaN               1   \n",
       "4           Low        2013-03-26         NaN          NaN               2   \n",
       "\n",
       "  start   end event two_year_recid  \n",
       "0     0   327     0              0  \n",
       "1     9   159     1              1  \n",
       "2     0    63     0              1  \n",
       "3     0  1174     0              0  \n",
       "4     0  1102     0              0  \n",
       "\n",
       "[5 rows x 53 columns]"
      ]
     },
     "execution_count": 2,
     "metadata": {},
     "output_type": "execute_result"
    }
   ],
   "source": [
    "url = 'https://raw.githubusercontent.com/propublica/compas-analysis/master/compas-scores-two-years.csv'\n",
    "df = pd.read_csv(url)\n",
    "df.head()"
   ]
  },
  {
   "cell_type": "code",
   "execution_count": 3,
   "id": "018249c9",
   "metadata": {},
   "outputs": [
    {
     "data": {
      "text/plain": [
       "(7214, 53)"
      ]
     },
     "execution_count": 3,
     "metadata": {},
     "output_type": "execute_result"
    }
   ],
   "source": [
    "# 7214 data points with 53 attributes\n",
    "df.shape"
   ]
  },
  {
   "cell_type": "markdown",
   "id": "4518b760",
   "metadata": {},
   "source": [
    "Plot ethnicity:"
   ]
  },
  {
   "cell_type": "code",
   "execution_count": 4,
   "id": "6eb5ad01",
   "metadata": {},
   "outputs": [
    {
     "data": {
      "text/plain": [
       "<Figure size 576x360 with 0 Axes>"
      ]
     },
     "execution_count": 4,
     "metadata": {},
     "output_type": "execute_result"
    },
    {
     "data": {
      "text/plain": [
       "[Text(0.5, 0, 'Ethnicity'),\n",
       " Text(0, 0.5, 'Absolute Count'),\n",
       " Text(0.5, 1.0, 'Defendants by ethnicity')]"
      ]
     },
     "execution_count": 4,
     "metadata": {},
     "output_type": "execute_result"
    },
    {
     "data": {
      "image/png": "[encoded data removed]",
      "text/plain": [
       "<Figure size 576x360 with 1 Axes>"
      ]
     },
     "metadata": {
      "needs_background": "light"
     },
     "output_type": "display_data"
    }
   ],
   "source": [
    "plt.figure(figsize=(8,5))\n",
    "plot0 = sns.countplot(x=\"race\", data=df, palette='Reds_r')\n",
    "plot0.set(xlabel='Ethnicity', ylabel='Absolute Count', title='Defendants by ethnicity')"
   ]
  },
  {
   "cell_type": "markdown",
   "id": "563bcfda",
   "metadata": {},
   "source": [
    "Add attribute african_american that is 1 for african-american people and 0 otherwise:"
   ]
  },
  {
   "cell_type": "code",
   "execution_count": 5,
   "id": "29036804",
   "metadata": {},
   "outputs": [],
   "source": [
    "df['african_american'] = (df['race'] == 'African-American').astype(int)"
   ]
  },
  {
   "cell_type": "markdown",
   "id": "98098b22",
   "metadata": {},
   "source": [
    "Plot predictions and highlight ethnic differences:"
   ]
  },
  {
   "cell_type": "code",
   "execution_count": 6,
   "id": "3b7e2b1d",
   "metadata": {},
   "outputs": [
    {
     "data": {
      "text/plain": [
       "<seaborn.axisgrid.FacetGrid at 0x13c6766f2e0>"
      ]
     },
     "execution_count": 6,
     "metadata": {},
     "output_type": "execute_result"
    },
    {
     "data": {
      "image/png": "[encoded data removed]",
      "text/plain": [
       "<Figure size 454.625x360 with 1 Axes>"
      ]
     },
     "metadata": {
      "needs_background": "light"
     },
     "output_type": "display_data"
    }
   ],
   "source": [
    "x,y = 'decile_score','african_american'\n",
    "\n",
    "df_grouped_by_race_risk_decile_scores = (df\n",
    ".groupby(y)[x]\n",
    ".value_counts(normalize=True)\n",
    ".mul(100)\n",
    ".rename('percent')\n",
    ".reset_index())\n",
    "\n",
    "plot2a = sns.catplot(x=x, y='percent', hue=y, data=df_grouped_by_race_risk_decile_scores, kind='bar', palette='Reds')\n",
    "plot2a.set(xlabel='Recidivism Score', ylabel='Percent', title='COMPAS Recidivism Predictions')"
   ]
  },
  {
   "cell_type": "markdown",
   "id": "e387da3e",
   "metadata": {},
   "source": [
    "Change predictions to binary classification problem:"
   ]
  },
  {
   "cell_type": "code",
   "execution_count": 8,
   "id": "385f5b5a",
   "metadata": {},
   "outputs": [],
   "source": [
    "# High risk if score >= 5, low risk otherwise.\n",
    "df['high_risk']  = (df['decile_score']>=5).astype(int)"
   ]
  },
  {
   "cell_type": "markdown",
   "id": "4ccc2131",
   "metadata": {},
   "source": [
    "Assign TP, FP, FN and FP to defendants:"
   ]
  },
  {
   "cell_type": "code",
   "execution_count": 9,
   "id": "d385e4bd",
   "metadata": {},
   "outputs": [],
   "source": [
    "# Create function for assigning eval-labels:\n",
    "def assign_eval(row):\n",
    "    if row['high_risk'] == 1 and row['two_year_recid'] == 1:\n",
    "        val = 'TP'\n",
    "    elif row['high_risk'] == 1 and row['two_year_recid'] == 0:\n",
    "        val = 'FP'\n",
    "    elif row['high_risk'] == 0 and row['two_year_recid'] == 1:\n",
    "        val = 'FN'\n",
    "    else:\n",
    "        val = 'TN'\n",
    "    return val\n",
    "\n",
    "# Apply function to each defendant:\n",
    "df['eval'] = df.apply(assign_eval, axis=1)\n",
    "        "
   ]
  },
  {
   "cell_type": "markdown",
   "id": "7e3176db",
   "metadata": {},
   "source": [
    "Plot evaluations for sensitive attribute race:"
   ]
  },
  {
   "cell_type": "code",
   "execution_count": 10,
   "id": "263137b6",
   "metadata": {},
   "outputs": [
    {
     "data": {
      "text/plain": [
       "<seaborn.axisgrid.FacetGrid at 0x13c677240d0>"
      ]
     },
     "execution_count": 10,
     "metadata": {},
     "output_type": "execute_result"
    },
    {
     "data": {
      "image/png": "[encoded data removed]",
      "text/plain": [
       "<Figure size 454.625x360 with 1 Axes>"
      ]
     },
     "metadata": {
      "needs_background": "light"
     },
     "output_type": "display_data"
    }
   ],
   "source": [
    "x,y = 'eval','african_american'\n",
    "\n",
    "df_grouped_by_race_eval = (df\n",
    ".groupby(y)[x]\n",
    ".value_counts(normalize=True)\n",
    ".mul(100)\n",
    ".rename('percent')\n",
    ".reset_index())\n",
    "\n",
    "plot2b = sns.catplot(x='eval', y='percent', hue='african_american', data=df_grouped_by_race_eval, kind='bar', palette='Reds')\n",
    "plot2b.set(xlabel='Correctness', ylabel='Percent', title='COMPAS Recidivism Predictions')"
   ]
  },
  {
   "cell_type": "markdown",
   "id": "6504b818",
   "metadata": {},
   "source": [
    "Plot predictions:"
   ]
  },
  {
   "cell_type": "code",
   "execution_count": 5,
   "id": "4978ecbc",
   "metadata": {},
   "outputs": [
    {
     "data": {
      "image/png": "[encoded data removed]",
      "text/plain": [
       "<Figure size 432x288 with 1 Axes>"
      ]
     },
     "metadata": {
      "needs_background": "light"
     },
     "output_type": "display_data"
    }
   ],
   "source": [
    "plot1 = sns.barplot(x=\"v_decile_score\", y=\"v_decile_score\", data=df, estimator=lambda x: len(x) / len(df) * 100, palette='Reds')"
   ]
  },
  {
   "cell_type": "markdown",
   "id": "08092e3d",
   "metadata": {},
   "source": [
    "Plot predictions for sensitive attribute race:"
   ]
  },
  {
   "cell_type": "code",
   "execution_count": 9,
   "id": "7a87cf82",
   "metadata": {},
   "outputs": [
    {
     "data": {
      "text/plain": [
       "<seaborn.axisgrid.FacetGrid at 0x14ddaefd0a0>"
      ]
     },
     "execution_count": 9,
     "metadata": {},
     "output_type": "execute_result"
    },
    {
     "data": {
      "image/png": "[encoded data removed]",
      "text/plain": [
       "<Figure size 454.625x360 with 1 Axes>"
      ]
     },
     "metadata": {
      "needs_background": "light"
     },
     "output_type": "display_data"
    }
   ],
   "source": [
    "x,y = 'high_risk','african_american'\n",
    "\n",
    "df_grouped_by_race_risk = (df\n",
    ".groupby(y)[x]\n",
    ".value_counts(normalize=True)\n",
    ".mul(100)\n",
    ".rename('percent')\n",
    ".reset_index())\n",
    "\n",
    "plot1a = sns.catplot(x=x, y='percent', hue=y, data=df_grouped_by_race_risk, kind='bar', palette='Reds')\n",
    "plot1a.set(xlabel='Recidivism Prediction', ylabel='Percent', title='COMPAS Recidivism Predictions')"
   ]
  },
  {
   "cell_type": "markdown",
   "id": "92bc7bc2",
   "metadata": {},
   "source": [
    "Plot predictions for sensitive attribute gender:"
   ]
  },
  {
   "cell_type": "code",
   "execution_count": 12,
   "id": "48cfb143",
   "metadata": {},
   "outputs": [
    {
     "data": {
      "image/png": "[encoded data removed]",
      "text/plain": [
       "<Figure size 432.125x360 with 1 Axes>"
      ]
     },
     "metadata": {
      "needs_background": "light"
     },
     "output_type": "display_data"
    }
   ],
   "source": [
    "x,y = 'high_risk','sex'\n",
    "\n",
    "df_grouped_by_race_risk = (df\n",
    ".groupby(y)[x]\n",
    ".value_counts(normalize=True)\n",
    ".mul(100)\n",
    ".rename('percent')\n",
    ".reset_index())\n",
    "\n",
    "plot2a = sns.catplot(x=x, y='percent', hue=y, data=df_grouped_by_race_risk, kind='bar', palette='Reds_r')"
   ]
  },
  {
   "cell_type": "markdown",
   "id": "7038fbd1",
   "metadata": {},
   "source": [
    "Plot evaluations for sensitive attribute gender:"
   ]
  },
  {
   "cell_type": "code",
   "execution_count": 28,
   "id": "2c4d3af2",
   "metadata": {},
   "outputs": [
    {
     "data": {
      "image/png": "[encoded data removed]",
      "text/plain": [
       "<Figure size 432.125x360 with 1 Axes>"
      ]
     },
     "metadata": {
      "needs_background": "light"
     },
     "output_type": "display_data"
    }
   ],
   "source": [
    "x,y = 'eval','sex'\n",
    "\n",
    "df_grouped_by_race = (df\n",
    ".groupby(y)[x]\n",
    ".value_counts(normalize=True)\n",
    ".mul(100)\n",
    ".rename('percent')\n",
    ".reset_index())\n",
    "\n",
    "plot3 = sns.catplot(x='eval', y='percent', hue='sex', data=df_grouped_by_race, kind='bar', palette='Reds')"
   ]
  }
 ],
 "metadata": {
  "kernelspec": {
   "display_name": "Python 3",
   "language": "python",
   "name": "python3"
  },
  "language_info": {
   "codemirror_mode": {
    "name": "ipython",
    "version": 3
   },
   "file_extension": ".py",
   "mimetype": "text/x-python",
   "name": "python",
   "nbconvert_exporter": "python",
   "pygments_lexer": "ipython3",
   "version": "3.9.1"
  }
 },
 "nbformat": 4,
 "nbformat_minor": 5
}
