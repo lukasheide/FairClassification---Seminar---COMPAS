{
 "cells": [
  {
   "cell_type": "markdown",
   "id": "8daf6603",
   "metadata": {},
   "source": [
    "# Fair Machine Learning - COMPAS dataset - Logistic Regression"
   ]
  },
  {
   "cell_type": "code",
   "execution_count": 2,
   "id": "73942dd6",
   "metadata": {},
   "outputs": [],
   "source": [
    "%matplotlib inline\n",
    "from IPython.core.interactiveshell import InteractiveShell\n",
    "InteractiveShell.ast_node_interactivity = \"all\"\n",
    "\n",
    "import numpy as np\n",
    "import pandas as pd\n",
    "import matplotlib.pyplot as plt\n",
    "import seaborn as sns\n",
    "from sklearn.metrics import confusion_matrix\n",
    "from sklearn.preprocessing import StandardScaler\n",
    "from sklearn.model_selection import train_test_split, KFold, cross_val_score, cross_validate, GridSearchCV\n",
    "from sklearn.linear_model import LogisticRegression\n",
    "from sklearn.metrics import plot_confusion_matrix\n",
    "\n",
    "pd.options.mode.chained_assignment = None  # default='warn'"
   ]
  },
  {
   "cell_type": "code",
   "execution_count": 95,
   "id": "946a93fa",
   "metadata": {},
   "outputs": [
    {
     "data": {
      "text/html": [
       "<div>\n",
       "<style scoped>\n",
       "    .dataframe tbody tr th:only-of-type {\n",
       "        vertical-align: middle;\n",
       "    }\n",
       "\n",
       "    .dataframe tbody tr th {\n",
       "        vertical-align: top;\n",
       "    }\n",
       "\n",
       "    .dataframe thead th {\n",
       "        text-align: right;\n",
       "    }\n",
       "</style>\n",
       "<table border=\"1\" class=\"dataframe\">\n",
       "  <thead>\n",
       "    <tr style=\"text-align: right;\">\n",
       "      <th></th>\n",
       "      <th>Unnamed: 0</th>\n",
       "      <th>id</th>\n",
       "      <th>name</th>\n",
       "      <th>first</th>\n",
       "      <th>last</th>\n",
       "      <th>compas_screening_date</th>\n",
       "      <th>sex</th>\n",
       "      <th>dob</th>\n",
       "      <th>age</th>\n",
       "      <th>age_cat</th>\n",
       "      <th>...</th>\n",
       "      <th>v_decile_score</th>\n",
       "      <th>v_score_text</th>\n",
       "      <th>v_screening_date</th>\n",
       "      <th>in_custody</th>\n",
       "      <th>out_custody</th>\n",
       "      <th>priors_count.1</th>\n",
       "      <th>start</th>\n",
       "      <th>end</th>\n",
       "      <th>event</th>\n",
       "      <th>two_year_recid</th>\n",
       "    </tr>\n",
       "  </thead>\n",
       "  <tbody>\n",
       "    <tr>\n",
       "      <th>0</th>\n",
       "      <td>0</td>\n",
       "      <td>1</td>\n",
       "      <td>miguel hernandez</td>\n",
       "      <td>miguel</td>\n",
       "      <td>hernandez</td>\n",
       "      <td>2013-08-14</td>\n",
       "      <td>Male</td>\n",
       "      <td>1947-04-18</td>\n",
       "      <td>69</td>\n",
       "      <td>Greater than 45</td>\n",
       "      <td>...</td>\n",
       "      <td>1</td>\n",
       "      <td>Low</td>\n",
       "      <td>2013-08-14</td>\n",
       "      <td>2014-07-07</td>\n",
       "      <td>2014-07-14</td>\n",
       "      <td>0</td>\n",
       "      <td>0</td>\n",
       "      <td>327</td>\n",
       "      <td>0</td>\n",
       "      <td>0</td>\n",
       "    </tr>\n",
       "    <tr>\n",
       "      <th>1</th>\n",
       "      <td>1</td>\n",
       "      <td>3</td>\n",
       "      <td>kevon dixon</td>\n",
       "      <td>kevon</td>\n",
       "      <td>dixon</td>\n",
       "      <td>2013-01-27</td>\n",
       "      <td>Male</td>\n",
       "      <td>1982-01-22</td>\n",
       "      <td>34</td>\n",
       "      <td>25 - 45</td>\n",
       "      <td>...</td>\n",
       "      <td>1</td>\n",
       "      <td>Low</td>\n",
       "      <td>2013-01-27</td>\n",
       "      <td>2013-01-26</td>\n",
       "      <td>2013-02-05</td>\n",
       "      <td>0</td>\n",
       "      <td>9</td>\n",
       "      <td>159</td>\n",
       "      <td>1</td>\n",
       "      <td>1</td>\n",
       "    </tr>\n",
       "    <tr>\n",
       "      <th>2</th>\n",
       "      <td>2</td>\n",
       "      <td>4</td>\n",
       "      <td>ed philo</td>\n",
       "      <td>ed</td>\n",
       "      <td>philo</td>\n",
       "      <td>2013-04-14</td>\n",
       "      <td>Male</td>\n",
       "      <td>1991-05-14</td>\n",
       "      <td>24</td>\n",
       "      <td>Less than 25</td>\n",
       "      <td>...</td>\n",
       "      <td>3</td>\n",
       "      <td>Low</td>\n",
       "      <td>2013-04-14</td>\n",
       "      <td>2013-06-16</td>\n",
       "      <td>2013-06-16</td>\n",
       "      <td>4</td>\n",
       "      <td>0</td>\n",
       "      <td>63</td>\n",
       "      <td>0</td>\n",
       "      <td>1</td>\n",
       "    </tr>\n",
       "    <tr>\n",
       "      <th>3</th>\n",
       "      <td>3</td>\n",
       "      <td>5</td>\n",
       "      <td>marcu brown</td>\n",
       "      <td>marcu</td>\n",
       "      <td>brown</td>\n",
       "      <td>2013-01-13</td>\n",
       "      <td>Male</td>\n",
       "      <td>1993-01-21</td>\n",
       "      <td>23</td>\n",
       "      <td>Less than 25</td>\n",
       "      <td>...</td>\n",
       "      <td>6</td>\n",
       "      <td>Medium</td>\n",
       "      <td>2013-01-13</td>\n",
       "      <td>NaN</td>\n",
       "      <td>NaN</td>\n",
       "      <td>1</td>\n",
       "      <td>0</td>\n",
       "      <td>1174</td>\n",
       "      <td>0</td>\n",
       "      <td>0</td>\n",
       "    </tr>\n",
       "    <tr>\n",
       "      <th>4</th>\n",
       "      <td>4</td>\n",
       "      <td>6</td>\n",
       "      <td>bouthy pierrelouis</td>\n",
       "      <td>bouthy</td>\n",
       "      <td>pierrelouis</td>\n",
       "      <td>2013-03-26</td>\n",
       "      <td>Male</td>\n",
       "      <td>1973-01-22</td>\n",
       "      <td>43</td>\n",
       "      <td>25 - 45</td>\n",
       "      <td>...</td>\n",
       "      <td>1</td>\n",
       "      <td>Low</td>\n",
       "      <td>2013-03-26</td>\n",
       "      <td>NaN</td>\n",
       "      <td>NaN</td>\n",
       "      <td>2</td>\n",
       "      <td>0</td>\n",
       "      <td>1102</td>\n",
       "      <td>0</td>\n",
       "      <td>0</td>\n",
       "    </tr>\n",
       "  </tbody>\n",
       "</table>\n",
       "<p>5 rows × 54 columns</p>\n",
       "</div>"
      ],
      "text/plain": [
       "   Unnamed: 0  id                name   first         last  \\\n",
       "0           0   1    miguel hernandez  miguel    hernandez   \n",
       "1           1   3         kevon dixon   kevon        dixon   \n",
       "2           2   4            ed philo      ed        philo   \n",
       "3           3   5         marcu brown   marcu        brown   \n",
       "4           4   6  bouthy pierrelouis  bouthy  pierrelouis   \n",
       "\n",
       "  compas_screening_date   sex         dob  age          age_cat  ...  \\\n",
       "0            2013-08-14  Male  1947-04-18   69  Greater than 45  ...   \n",
       "1            2013-01-27  Male  1982-01-22   34          25 - 45  ...   \n",
       "2            2013-04-14  Male  1991-05-14   24     Less than 25  ...   \n",
       "3            2013-01-13  Male  1993-01-21   23     Less than 25  ...   \n",
       "4            2013-03-26  Male  1973-01-22   43          25 - 45  ...   \n",
       "\n",
       "  v_decile_score  v_score_text  v_screening_date  in_custody  out_custody  \\\n",
       "0              1           Low        2013-08-14  2014-07-07   2014-07-14   \n",
       "1              1           Low        2013-01-27  2013-01-26   2013-02-05   \n",
       "2              3           Low        2013-04-14  2013-06-16   2013-06-16   \n",
       "3              6        Medium        2013-01-13         NaN          NaN   \n",
       "4              1           Low        2013-03-26         NaN          NaN   \n",
       "\n",
       "   priors_count.1  start   end event two_year_recid  \n",
       "0               0      0   327     0              0  \n",
       "1               0      9   159     1              1  \n",
       "2               4      0    63     0              1  \n",
       "3               1      0  1174     0              0  \n",
       "4               2      0  1102     0              0  \n",
       "\n",
       "[5 rows x 54 columns]"
      ]
     },
     "execution_count": 95,
     "metadata": {},
     "output_type": "execute_result"
    }
   ],
   "source": [
    "raw_df = pd.read_csv('../../Data/compas7214.csv')\n",
    "raw_df.head()"
   ]
  },
  {
   "cell_type": "code",
   "execution_count": 96,
   "id": "15aa189a",
   "metadata": {},
   "outputs": [
    {
     "name": "stdout",
     "output_type": "stream",
     "text": [
      "<class 'pandas.core.frame.DataFrame'>\n",
      "RangeIndex: 7214 entries, 0 to 7213\n",
      "Data columns (total 54 columns):\n",
      " #   Column                   Non-Null Count  Dtype  \n",
      "---  ------                   --------------  -----  \n",
      " 0   Unnamed: 0               7214 non-null   int64  \n",
      " 1   id                       7214 non-null   int64  \n",
      " 2   name                     7214 non-null   object \n",
      " 3   first                    7214 non-null   object \n",
      " 4   last                     7214 non-null   object \n",
      " 5   compas_screening_date    7214 non-null   object \n",
      " 6   sex                      7214 non-null   object \n",
      " 7   dob                      7214 non-null   object \n",
      " 8   age                      7214 non-null   int64  \n",
      " 9   age_cat                  7214 non-null   object \n",
      " 10  race                     7214 non-null   object \n",
      " 11  juv_fel_count            7214 non-null   int64  \n",
      " 12  decile_score             7214 non-null   int64  \n",
      " 13  juv_misd_count           7214 non-null   int64  \n",
      " 14  juv_other_count          7214 non-null   int64  \n",
      " 15  priors_count             7214 non-null   int64  \n",
      " 16  days_b_screening_arrest  6907 non-null   float64\n",
      " 17  c_jail_in                6907 non-null   object \n",
      " 18  c_jail_out               6907 non-null   object \n",
      " 19  c_case_number            7192 non-null   object \n",
      " 20  c_offense_date           6055 non-null   object \n",
      " 21  c_arrest_date            1137 non-null   object \n",
      " 22  c_days_from_compas       7192 non-null   float64\n",
      " 23  c_charge_degree          7214 non-null   object \n",
      " 24  c_charge_desc            7185 non-null   object \n",
      " 25  is_recid                 7214 non-null   int64  \n",
      " 26  r_case_number            3471 non-null   object \n",
      " 27  r_charge_degree          3471 non-null   object \n",
      " 28  r_days_from_arrest       2316 non-null   float64\n",
      " 29  r_offense_date           3471 non-null   object \n",
      " 30  r_charge_desc            3413 non-null   object \n",
      " 31  r_jail_in                2316 non-null   object \n",
      " 32  r_jail_out               2316 non-null   object \n",
      " 33  violent_recid            0 non-null      float64\n",
      " 34  is_violent_recid         7214 non-null   int64  \n",
      " 35  vr_case_number           819 non-null    object \n",
      " 36  vr_charge_degree         819 non-null    object \n",
      " 37  vr_offense_date          819 non-null    object \n",
      " 38  vr_charge_desc           819 non-null    object \n",
      " 39  type_of_assessment       7214 non-null   object \n",
      " 40  decile_score.1           7214 non-null   int64  \n",
      " 41  score_text               7214 non-null   object \n",
      " 42  screening_date           7214 non-null   object \n",
      " 43  v_type_of_assessment     7214 non-null   object \n",
      " 44  v_decile_score           7214 non-null   int64  \n",
      " 45  v_score_text             7214 non-null   object \n",
      " 46  v_screening_date         7214 non-null   object \n",
      " 47  in_custody               6978 non-null   object \n",
      " 48  out_custody              6978 non-null   object \n",
      " 49  priors_count.1           7214 non-null   int64  \n",
      " 50  start                    7214 non-null   int64  \n",
      " 51  end                      7214 non-null   int64  \n",
      " 52  event                    7214 non-null   int64  \n",
      " 53  two_year_recid           7214 non-null   int64  \n",
      "dtypes: float64(4), int64(17), object(33)\n",
      "memory usage: 3.0+ MB\n"
     ]
    }
   ],
   "source": [
    "raw_df.info()"
   ]
  },
  {
   "cell_type": "markdown",
   "id": "4fbeb5f8",
   "metadata": {},
   "source": [
    "Selecting Features:"
   ]
  },
  {
   "cell_type": "markdown",
   "id": "8570c075",
   "metadata": {},
   "source": [
    "| Variable | Description     \n",
    "| :- |-------------:\n",
    "| Sex | 1 if male, 0 if female |\n",
    "| Age | Age in years |\n",
    "| ... | ... |"
   ]
  },
  {
   "cell_type": "code",
   "execution_count": 97,
   "id": "7a1a4949",
   "metadata": {},
   "outputs": [],
   "source": [
    "# \n",
    "features = ['sex', 'age', 'juv_fel_count', 'juv_other_count', \n",
    "            'juv_misd_count', 'priors_count', \n",
    "            'race', 'c_charge_degree']\n",
    "\n",
    "target = ['two_year_recid']\n",
    "\n",
    "df = raw_df[features + target]"
   ]
  },
  {
   "cell_type": "code",
   "execution_count": 103,
   "id": "28e5994c",
   "metadata": {},
   "outputs": [
    {
     "data": {
      "text/html": [
       "<div>\n",
       "<style scoped>\n",
       "    .dataframe tbody tr th:only-of-type {\n",
       "        vertical-align: middle;\n",
       "    }\n",
       "\n",
       "    .dataframe tbody tr th {\n",
       "        vertical-align: top;\n",
       "    }\n",
       "\n",
       "    .dataframe thead th {\n",
       "        text-align: right;\n",
       "    }\n",
       "</style>\n",
       "<table border=\"1\" class=\"dataframe\">\n",
       "  <thead>\n",
       "    <tr style=\"text-align: right;\">\n",
       "      <th></th>\n",
       "      <th>sex</th>\n",
       "      <th>age</th>\n",
       "      <th>juv_fel_count</th>\n",
       "      <th>juv_other_count</th>\n",
       "      <th>juv_misd_count</th>\n",
       "      <th>priors_count</th>\n",
       "      <th>c_charge_degree</th>\n",
       "      <th>two_year_recid</th>\n",
       "      <th>african_american</th>\n",
       "    </tr>\n",
       "  </thead>\n",
       "  <tbody>\n",
       "    <tr>\n",
       "      <th>0</th>\n",
       "      <td>1</td>\n",
       "      <td>69</td>\n",
       "      <td>0</td>\n",
       "      <td>0</td>\n",
       "      <td>0</td>\n",
       "      <td>0</td>\n",
       "      <td>0</td>\n",
       "      <td>0</td>\n",
       "      <td>0</td>\n",
       "    </tr>\n",
       "    <tr>\n",
       "      <th>1</th>\n",
       "      <td>1</td>\n",
       "      <td>34</td>\n",
       "      <td>0</td>\n",
       "      <td>0</td>\n",
       "      <td>0</td>\n",
       "      <td>0</td>\n",
       "      <td>0</td>\n",
       "      <td>1</td>\n",
       "      <td>1</td>\n",
       "    </tr>\n",
       "    <tr>\n",
       "      <th>2</th>\n",
       "      <td>1</td>\n",
       "      <td>24</td>\n",
       "      <td>0</td>\n",
       "      <td>1</td>\n",
       "      <td>0</td>\n",
       "      <td>4</td>\n",
       "      <td>0</td>\n",
       "      <td>1</td>\n",
       "      <td>1</td>\n",
       "    </tr>\n",
       "    <tr>\n",
       "      <th>3</th>\n",
       "      <td>1</td>\n",
       "      <td>23</td>\n",
       "      <td>0</td>\n",
       "      <td>0</td>\n",
       "      <td>1</td>\n",
       "      <td>1</td>\n",
       "      <td>0</td>\n",
       "      <td>0</td>\n",
       "      <td>1</td>\n",
       "    </tr>\n",
       "    <tr>\n",
       "      <th>4</th>\n",
       "      <td>1</td>\n",
       "      <td>43</td>\n",
       "      <td>0</td>\n",
       "      <td>0</td>\n",
       "      <td>0</td>\n",
       "      <td>2</td>\n",
       "      <td>0</td>\n",
       "      <td>0</td>\n",
       "      <td>0</td>\n",
       "    </tr>\n",
       "  </tbody>\n",
       "</table>\n",
       "</div>"
      ],
      "text/plain": [
       "   sex  age  juv_fel_count  juv_other_count  juv_misd_count  priors_count  \\\n",
       "0    1   69              0                0               0             0   \n",
       "1    1   34              0                0               0             0   \n",
       "2    1   24              0                1               0             4   \n",
       "3    1   23              0                0               1             1   \n",
       "4    1   43              0                0               0             2   \n",
       "\n",
       "   c_charge_degree  two_year_recid  african_american  \n",
       "0                0               0                 0  \n",
       "1                0               1                 1  \n",
       "2                0               1                 1  \n",
       "3                0               0                 1  \n",
       "4                0               0                 0  "
      ]
     },
     "execution_count": 103,
     "metadata": {},
     "output_type": "execute_result"
    }
   ],
   "source": [
    "df.head(5)"
   ]
  },
  {
   "cell_type": "markdown",
   "id": "7add8586",
   "metadata": {},
   "source": [
    "Encode sex, race and c_charge_degree:"
   ]
  },
  {
   "cell_type": "code",
   "execution_count": 99,
   "id": "2af33c0d",
   "metadata": {},
   "outputs": [],
   "source": [
    "# Gender (1 if male, 0 otherwise)\n",
    "df.sex = (df['sex'] == 'Male').astype(int)\n",
    "\n",
    "# Race (1 if african american, 0 otherwise)\n",
    "df[\"african_american\"] = (df['race'] == 'African-American').astype(int)\n",
    "df.drop(['race'], axis=1, inplace=True)\n",
    "\n",
    "# Charge Degree (1 if m, 0 otherwise)\n",
    "df.c_charge_degree = (df['c_charge_degree'] == 'M').astype(int)"
   ]
  },
  {
   "cell_type": "markdown",
   "id": "15f3aa09",
   "metadata": {},
   "source": [
    "Standardize values and create numpy array X:"
   ]
  },
  {
   "cell_type": "code",
   "execution_count": 106,
   "id": "df75b7e2",
   "metadata": {},
   "outputs": [],
   "source": [
    "target = ['two_year_recid']\n",
    "\n",
    "features = [f for f in df.columns if f not in target]\n",
    "\n",
    "X = StandardScaler().fit_transform(df[features])"
   ]
  },
  {
   "cell_type": "markdown",
   "id": "36ed5b77",
   "metadata": {},
   "source": [
    "Create train, test split set:"
   ]
  },
  {
   "cell_type": "code",
   "execution_count": 130,
   "id": "5e623063",
   "metadata": {},
   "outputs": [],
   "source": [
    "random_state = 1234\n",
    "n_splits = 10\n",
    "\n",
    "X_train, X_test, y_train, y_test, indices_train, indices_test = train_test_split(\n",
    "                                                            X,\n",
    "                                                            df[target], \n",
    "                                                            df.index,\n",
    "                                                            test_size = 0.2, \n",
    "                                                            random_state = random_state)\n",
    "\n",
    "# To avoid DataConversionWarning: A column-vector y was passed when a 1d array was expected.\n",
    "y_train = np.ravel(y_train)\n",
    "\n",
    "kfold = KFold(n_splits = n_splits,\n",
    "              shuffle = True,\n",
    "              random_state = random_state)"
   ]
  },
  {
   "cell_type": "markdown",
   "id": "48e8f816",
   "metadata": {},
   "source": [
    "Create model and train it:"
   ]
  },
  {
   "cell_type": "code",
   "execution_count": 131,
   "id": "3b5af910",
   "metadata": {},
   "outputs": [
    {
     "data": {
      "text/plain": [
       "LogisticRegression()"
      ]
     },
     "execution_count": 131,
     "metadata": {},
     "output_type": "execute_result"
    },
    {
     "name": "stdout",
     "output_type": "stream",
     "text": [
      "{'Train_Score': 0.6761393172760354, 'Held_Out_Score': 0.6687456687456688}\n"
     ]
    }
   ],
   "source": [
    "model = LogisticRegression()\n",
    "\n",
    "\n",
    "model.fit(X_train, y_train)\n",
    "\n",
    "\n",
    "result = {'Train_Score' : model.score(X_train, y_train),\n",
    "          'Held_Out_Score' : model.score(X_test, y_test)}\n",
    "\n",
    "print(result)"
   ]
  },
  {
   "cell_type": "markdown",
   "id": "2f99cdfe",
   "metadata": {},
   "source": [
    "Inspect coefficients"
   ]
  },
  {
   "cell_type": "code",
   "execution_count": 132,
   "id": "7a555db2",
   "metadata": {},
   "outputs": [
    {
     "data": {
      "text/plain": [
       "array([[ 0.11525722, -0.49455247,  0.10170998,  0.14426222,  0.04320274,\n",
       "         0.67706357, -0.08758025,  0.08431221]])"
      ]
     },
     "execution_count": 132,
     "metadata": {},
     "output_type": "execute_result"
    }
   ],
   "source": [
    "model.coef_"
   ]
  },
  {
   "cell_type": "markdown",
   "id": "fcffb5d8",
   "metadata": {},
   "source": [
    "Create confusion matrix:"
   ]
  },
  {
   "cell_type": "code",
   "execution_count": 152,
   "id": "36d16d14",
   "metadata": {},
   "outputs": [
    {
     "data": {
      "text/plain": [
       "Text(0.5, 1.0, 'Confusion matrix, without normalization')"
      ]
     },
     "execution_count": 152,
     "metadata": {},
     "output_type": "execute_result"
    },
    {
     "name": "stdout",
     "output_type": "stream",
     "text": [
      "Confusion matrix, without normalization\n",
      "[[629 187]\n",
      " [291 336]]\n"
     ]
    },
    {
     "data": {
      "text/plain": [
       "Text(0.5, 1.0, 'Normalized confusion matrix')"
      ]
     },
     "execution_count": 152,
     "metadata": {},
     "output_type": "execute_result"
    },
    {
     "name": "stdout",
     "output_type": "stream",
     "text": [
      "Normalized confusion matrix\n",
      "[[0.77083333 0.22916667]\n",
      " [0.46411483 0.53588517]]\n"
     ]
    },
    {
     "data": {
      "image/png": "[encoded data removed]",
      "text/plain": [
       "<Figure size 432x288 with 2 Axes>"
      ]
     },
     "metadata": {
      "needs_background": "light"
     },
     "output_type": "display_data"
    },
    {
     "data": {
      "image/png": "[encoded data removed]",
      "text/plain": [
       "<Figure size 432x288 with 2 Axes>"
      ]
     },
     "metadata": {
      "needs_background": "light"
     },
     "output_type": "display_data"
    }
   ],
   "source": [
    "# create variable for predictions:\n",
    "y_pred=model.predict(X_test)\n",
    "\n",
    "# create confusion matrix:\n",
    "titles_options = [(\"Confusion matrix, without normalization\", None),\n",
    "                  (\"Normalized confusion matrix\", 'true')]\n",
    "for title, normalize in titles_options:\n",
    "    disp = plot_confusion_matrix(model, X_test, y_test,\n",
    "                                 display_labels=['did not reoffend', 'did reoffend'],\n",
    "                                 cmap=plt.cm.Reds,\n",
    "                                 normalize=normalize)\n",
    "    disp.ax_.set_title(title)\n",
    "\n",
    "    print(title)\n",
    "    print(disp.confusion_matrix)\n",
    "\n",
    "plt.show()"
   ]
  },
  {
   "cell_type": "markdown",
   "id": "d4b65a29",
   "metadata": {},
   "source": [
    "Evaluate model based on accuracy, precision and recall:"
   ]
  },
  {
   "cell_type": "code",
   "execution_count": 155,
   "id": "222c56b3",
   "metadata": {},
   "outputs": [
    {
     "name": "stdout",
     "output_type": "stream",
     "text": [
      "Accuracy: 0.6687456687456688\n",
      "Precision: 0.6424474187380497\n",
      "Recall: 0.5358851674641149\n"
     ]
    }
   ],
   "source": [
    "print(\"Accuracy:\",metrics.accuracy_score(y_test, y_pred))\n",
    "print(\"Precision:\",metrics.precision_score(y_test, y_pred))\n",
    "print(\"Recall:\",metrics.recall_score(y_test, y_pred))"
   ]
  },
  {
   "cell_type": "markdown",
   "id": "25a5b001",
   "metadata": {},
   "source": [
    "Evaluate ROC of model:"
   ]
  },
  {
   "cell_type": "code",
   "execution_count": 156,
   "id": "8b933f0d",
   "metadata": {},
   "outputs": [
    {
     "data": {
      "text/plain": [
       "[<matplotlib.lines.Line2D at 0x23a331a4fd0>]"
      ]
     },
     "execution_count": 156,
     "metadata": {},
     "output_type": "execute_result"
    },
    {
     "data": {
      "text/plain": [
       "<matplotlib.legend.Legend at 0x23a31dc61c0>"
      ]
     },
     "execution_count": 156,
     "metadata": {},
     "output_type": "execute_result"
    },
    {
     "data": {
      "image/png": "[encoded data removed]",
      "text/plain": [
       "<Figure size 432x288 with 1 Axes>"
      ]
     },
     "metadata": {
      "needs_background": "light"
     },
     "output_type": "display_data"
    }
   ],
   "source": [
    "y_pred_proba = model.predict_proba(X_test)[::,1]\n",
    "fpr, tpr, _ = metrics.roc_curve(y_test,  y_pred)\n",
    "auc = metrics.roc_auc_score(y_test, y_pred)\n",
    "plt.plot(fpr,tpr,label=\"data 1, auc=\"+str(auc))\n",
    "plt.legend(loc=4)\n",
    "plt.show()"
   ]
  },
  {
   "cell_type": "code",
   "execution_count": null,
   "id": "74458f22",
   "metadata": {},
   "outputs": [],
   "source": []
  }
 ],
 "metadata": {
  "kernelspec": {
   "display_name": "Python 3",
   "language": "python",
   "name": "python3"
  },
  "language_info": {
   "codemirror_mode": {
    "name": "ipython",
    "version": 3
   },
   "file_extension": ".py",
   "mimetype": "text/x-python",
   "name": "python",
   "nbconvert_exporter": "python",
   "pygments_lexer": "ipython3",
   "version": "3.9.1"
  }
 },
 "nbformat": 4,
 "nbformat_minor": 5
}
